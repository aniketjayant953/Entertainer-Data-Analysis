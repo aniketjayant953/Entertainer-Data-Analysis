{
 "cells": [
  {
   "cell_type": "code",
   "execution_count": 1,
   "id": "479d8c4b",
   "metadata": {},
   "outputs": [],
   "source": [
    "import pandas as pd\n",
    "import numpy as np\n",
    "import matplotlib.pyplot as plt\n",
    "import seaborn as sns"
   ]
  },
  {
   "cell_type": "code",
   "execution_count": 2,
   "id": "3a849d89",
   "metadata": {},
   "outputs": [],
   "source": [
    "basic = pd.read_excel('Entertainer - Basic Info.xlsx')\n",
    "breakthrough = pd.read_excel('Entertainer - Breakthrough Info.xlsx')\n",
    "last_work = pd.read_excel('Entertainer - Last work Info.xlsx')"
   ]
  },
  {
   "cell_type": "code",
   "execution_count": 3,
   "id": "a66df5ce",
   "metadata": {
    "scrolled": true
   },
   "outputs": [
    {
     "data": {
      "text/html": [
       "<div>\n",
       "<style scoped>\n",
       "    .dataframe tbody tr th:only-of-type {\n",
       "        vertical-align: middle;\n",
       "    }\n",
       "\n",
       "    .dataframe tbody tr th {\n",
       "        vertical-align: top;\n",
       "    }\n",
       "\n",
       "    .dataframe thead th {\n",
       "        text-align: right;\n",
       "    }\n",
       "</style>\n",
       "<table border=\"1\" class=\"dataframe\">\n",
       "  <thead>\n",
       "    <tr style=\"text-align: right;\">\n",
       "      <th></th>\n",
       "      <th>Entertainer</th>\n",
       "      <th>Gender (traditional)</th>\n",
       "      <th>Birth Year</th>\n",
       "    </tr>\n",
       "  </thead>\n",
       "  <tbody>\n",
       "    <tr>\n",
       "      <th>0</th>\n",
       "      <td>Adele</td>\n",
       "      <td>F</td>\n",
       "      <td>1988</td>\n",
       "    </tr>\n",
       "    <tr>\n",
       "      <th>1</th>\n",
       "      <td>Angelina Jolie</td>\n",
       "      <td>F</td>\n",
       "      <td>1975</td>\n",
       "    </tr>\n",
       "    <tr>\n",
       "      <th>2</th>\n",
       "      <td>Aretha Franklin</td>\n",
       "      <td>F</td>\n",
       "      <td>1942</td>\n",
       "    </tr>\n",
       "    <tr>\n",
       "      <th>3</th>\n",
       "      <td>Bette Davis</td>\n",
       "      <td>F</td>\n",
       "      <td>1908</td>\n",
       "    </tr>\n",
       "    <tr>\n",
       "      <th>4</th>\n",
       "      <td>Betty White</td>\n",
       "      <td>F</td>\n",
       "      <td>1922</td>\n",
       "    </tr>\n",
       "  </tbody>\n",
       "</table>\n",
       "</div>"
      ],
      "text/plain": [
       "       Entertainer Gender (traditional)  Birth Year\n",
       "0            Adele                    F        1988\n",
       "1   Angelina Jolie                    F        1975\n",
       "2  Aretha Franklin                    F        1942\n",
       "3      Bette Davis                    F        1908\n",
       "4      Betty White                    F        1922"
      ]
     },
     "execution_count": 3,
     "metadata": {},
     "output_type": "execute_result"
    }
   ],
   "source": [
    "basic.head()"
   ]
  },
  {
   "cell_type": "code",
   "execution_count": 4,
   "id": "ccff9dbe",
   "metadata": {},
   "outputs": [
    {
     "data": {
      "text/html": [
       "<div>\n",
       "<style scoped>\n",
       "    .dataframe tbody tr th:only-of-type {\n",
       "        vertical-align: middle;\n",
       "    }\n",
       "\n",
       "    .dataframe tbody tr th {\n",
       "        vertical-align: top;\n",
       "    }\n",
       "\n",
       "    .dataframe thead th {\n",
       "        text-align: right;\n",
       "    }\n",
       "</style>\n",
       "<table border=\"1\" class=\"dataframe\">\n",
       "  <thead>\n",
       "    <tr style=\"text-align: right;\">\n",
       "      <th></th>\n",
       "      <th>Entertainer</th>\n",
       "      <th>Year of Breakthrough/#1 Hit/Award Nomination</th>\n",
       "      <th>Breakthrough Name</th>\n",
       "      <th>Year of First Oscar/Grammy/Emmy</th>\n",
       "    </tr>\n",
       "  </thead>\n",
       "  <tbody>\n",
       "    <tr>\n",
       "      <th>0</th>\n",
       "      <td>Adele</td>\n",
       "      <td>2008</td>\n",
       "      <td>19</td>\n",
       "      <td>2009.0</td>\n",
       "    </tr>\n",
       "    <tr>\n",
       "      <th>1</th>\n",
       "      <td>Angelina Jolie</td>\n",
       "      <td>1999</td>\n",
       "      <td>Girl, Interrupted</td>\n",
       "      <td>1999.0</td>\n",
       "    </tr>\n",
       "    <tr>\n",
       "      <th>2</th>\n",
       "      <td>Aretha Franklin</td>\n",
       "      <td>1967</td>\n",
       "      <td>I Never Loved a Man (The Way I Love You)</td>\n",
       "      <td>1968.0</td>\n",
       "    </tr>\n",
       "    <tr>\n",
       "      <th>3</th>\n",
       "      <td>Bette Davis</td>\n",
       "      <td>1934</td>\n",
       "      <td>Of Human Bondage</td>\n",
       "      <td>1935.0</td>\n",
       "    </tr>\n",
       "    <tr>\n",
       "      <th>4</th>\n",
       "      <td>Betty White</td>\n",
       "      <td>1952</td>\n",
       "      <td>Life with Elilzabeth</td>\n",
       "      <td>1976.0</td>\n",
       "    </tr>\n",
       "  </tbody>\n",
       "</table>\n",
       "</div>"
      ],
      "text/plain": [
       "       Entertainer  Year of Breakthrough/#1 Hit/Award Nomination  \\\n",
       "0            Adele                                          2008   \n",
       "1   Angelina Jolie                                          1999   \n",
       "2  Aretha Franklin                                          1967   \n",
       "3      Bette Davis                                          1934   \n",
       "4      Betty White                                          1952   \n",
       "\n",
       "                          Breakthrough Name  Year of First Oscar/Grammy/Emmy  \n",
       "0                                        19                           2009.0  \n",
       "1                         Girl, Interrupted                           1999.0  \n",
       "2  I Never Loved a Man (The Way I Love You)                           1968.0  \n",
       "3                          Of Human Bondage                           1935.0  \n",
       "4                      Life with Elilzabeth                           1976.0  "
      ]
     },
     "execution_count": 4,
     "metadata": {},
     "output_type": "execute_result"
    }
   ],
   "source": [
    "breakthrough.head()"
   ]
  },
  {
   "cell_type": "code",
   "execution_count": 5,
   "id": "667a50fd",
   "metadata": {},
   "outputs": [
    {
     "data": {
      "text/html": [
       "<div>\n",
       "<style scoped>\n",
       "    .dataframe tbody tr th:only-of-type {\n",
       "        vertical-align: middle;\n",
       "    }\n",
       "\n",
       "    .dataframe tbody tr th {\n",
       "        vertical-align: top;\n",
       "    }\n",
       "\n",
       "    .dataframe thead th {\n",
       "        text-align: right;\n",
       "    }\n",
       "</style>\n",
       "<table border=\"1\" class=\"dataframe\">\n",
       "  <thead>\n",
       "    <tr style=\"text-align: right;\">\n",
       "      <th></th>\n",
       "      <th>Entertainer</th>\n",
       "      <th>Year of Last Major Work (arguable)</th>\n",
       "      <th>Year of Death</th>\n",
       "    </tr>\n",
       "  </thead>\n",
       "  <tbody>\n",
       "    <tr>\n",
       "      <th>0</th>\n",
       "      <td>Adele</td>\n",
       "      <td>2016</td>\n",
       "      <td>NaN</td>\n",
       "    </tr>\n",
       "    <tr>\n",
       "      <th>1</th>\n",
       "      <td>Angelina Jolie</td>\n",
       "      <td>2016</td>\n",
       "      <td>NaN</td>\n",
       "    </tr>\n",
       "    <tr>\n",
       "      <th>2</th>\n",
       "      <td>Aretha Franklin</td>\n",
       "      <td>2014</td>\n",
       "      <td>NaN</td>\n",
       "    </tr>\n",
       "    <tr>\n",
       "      <th>3</th>\n",
       "      <td>Bette Davis</td>\n",
       "      <td>1989</td>\n",
       "      <td>1989.0</td>\n",
       "    </tr>\n",
       "    <tr>\n",
       "      <th>4</th>\n",
       "      <td>Betty White</td>\n",
       "      <td>2016</td>\n",
       "      <td>NaN</td>\n",
       "    </tr>\n",
       "  </tbody>\n",
       "</table>\n",
       "</div>"
      ],
      "text/plain": [
       "       Entertainer  Year of Last Major Work (arguable)  Year of Death\n",
       "0            Adele                                2016            NaN\n",
       "1   Angelina Jolie                                2016            NaN\n",
       "2  Aretha Franklin                                2014            NaN\n",
       "3      Bette Davis                                1989         1989.0\n",
       "4      Betty White                                2016            NaN"
      ]
     },
     "execution_count": 5,
     "metadata": {},
     "output_type": "execute_result"
    }
   ],
   "source": [
    "last_work.head()"
   ]
  },
  {
   "cell_type": "code",
   "execution_count": 3,
   "id": "b3a751c8",
   "metadata": {},
   "outputs": [
    {
     "data": {
      "text/html": [
       "<div>\n",
       "<style scoped>\n",
       "    .dataframe tbody tr th:only-of-type {\n",
       "        vertical-align: middle;\n",
       "    }\n",
       "\n",
       "    .dataframe tbody tr th {\n",
       "        vertical-align: top;\n",
       "    }\n",
       "\n",
       "    .dataframe thead th {\n",
       "        text-align: right;\n",
       "    }\n",
       "</style>\n",
       "<table border=\"1\" class=\"dataframe\">\n",
       "  <thead>\n",
       "    <tr style=\"text-align: right;\">\n",
       "      <th></th>\n",
       "      <th>Entertainer</th>\n",
       "      <th>Gender (traditional)</th>\n",
       "      <th>Birth Year</th>\n",
       "      <th>Year of Breakthrough/#1 Hit/Award Nomination</th>\n",
       "      <th>Breakthrough Name</th>\n",
       "      <th>Year of First Oscar/Grammy/Emmy</th>\n",
       "      <th>Year of Last Major Work (arguable)</th>\n",
       "      <th>Year of Death</th>\n",
       "    </tr>\n",
       "  </thead>\n",
       "  <tbody>\n",
       "    <tr>\n",
       "      <th>0</th>\n",
       "      <td>Adele</td>\n",
       "      <td>F</td>\n",
       "      <td>1988</td>\n",
       "      <td>2008</td>\n",
       "      <td>19</td>\n",
       "      <td>2009.0</td>\n",
       "      <td>2016</td>\n",
       "      <td>NaN</td>\n",
       "    </tr>\n",
       "    <tr>\n",
       "      <th>1</th>\n",
       "      <td>Angelina Jolie</td>\n",
       "      <td>F</td>\n",
       "      <td>1975</td>\n",
       "      <td>1999</td>\n",
       "      <td>Girl, Interrupted</td>\n",
       "      <td>1999.0</td>\n",
       "      <td>2016</td>\n",
       "      <td>NaN</td>\n",
       "    </tr>\n",
       "    <tr>\n",
       "      <th>2</th>\n",
       "      <td>Aretha Franklin</td>\n",
       "      <td>F</td>\n",
       "      <td>1942</td>\n",
       "      <td>1967</td>\n",
       "      <td>I Never Loved a Man (The Way I Love You)</td>\n",
       "      <td>1968.0</td>\n",
       "      <td>2014</td>\n",
       "      <td>NaN</td>\n",
       "    </tr>\n",
       "    <tr>\n",
       "      <th>3</th>\n",
       "      <td>Bette Davis</td>\n",
       "      <td>F</td>\n",
       "      <td>1908</td>\n",
       "      <td>1934</td>\n",
       "      <td>Of Human Bondage</td>\n",
       "      <td>1935.0</td>\n",
       "      <td>1989</td>\n",
       "      <td>1989.0</td>\n",
       "    </tr>\n",
       "    <tr>\n",
       "      <th>4</th>\n",
       "      <td>Betty White</td>\n",
       "      <td>F</td>\n",
       "      <td>1922</td>\n",
       "      <td>1952</td>\n",
       "      <td>Life with Elilzabeth</td>\n",
       "      <td>1976.0</td>\n",
       "      <td>2016</td>\n",
       "      <td>NaN</td>\n",
       "    </tr>\n",
       "  </tbody>\n",
       "</table>\n",
       "</div>"
      ],
      "text/plain": [
       "       Entertainer Gender (traditional)  Birth Year  \\\n",
       "0            Adele                    F        1988   \n",
       "1   Angelina Jolie                    F        1975   \n",
       "2  Aretha Franklin                    F        1942   \n",
       "3      Bette Davis                    F        1908   \n",
       "4      Betty White                    F        1922   \n",
       "\n",
       "   Year of Breakthrough/#1 Hit/Award Nomination  \\\n",
       "0                                          2008   \n",
       "1                                          1999   \n",
       "2                                          1967   \n",
       "3                                          1934   \n",
       "4                                          1952   \n",
       "\n",
       "                          Breakthrough Name  Year of First Oscar/Grammy/Emmy  \\\n",
       "0                                        19                           2009.0   \n",
       "1                         Girl, Interrupted                           1999.0   \n",
       "2  I Never Loved a Man (The Way I Love You)                           1968.0   \n",
       "3                          Of Human Bondage                           1935.0   \n",
       "4                      Life with Elilzabeth                           1976.0   \n",
       "\n",
       "   Year of Last Major Work (arguable)  Year of Death  \n",
       "0                                2016            NaN  \n",
       "1                                2016            NaN  \n",
       "2                                2014            NaN  \n",
       "3                                1989         1989.0  \n",
       "4                                2016            NaN  "
      ]
     },
     "execution_count": 3,
     "metadata": {},
     "output_type": "execute_result"
    }
   ],
   "source": [
    "df = basic.merge(breakthrough,on=\"Entertainer\").merge(last_work,on='Entertainer')\n",
    "df.head()"
   ]
  },
  {
   "cell_type": "code",
   "execution_count": 7,
   "id": "df442fa1",
   "metadata": {
    "scrolled": true
   },
   "outputs": [
    {
     "name": "stdout",
     "output_type": "stream",
     "text": [
      "<class 'pandas.core.frame.DataFrame'>\n",
      "Int64Index: 70 entries, 0 to 69\n",
      "Data columns (total 8 columns):\n",
      " #   Column                                        Non-Null Count  Dtype  \n",
      "---  ------                                        --------------  -----  \n",
      " 0   Entertainer                                   70 non-null     object \n",
      " 1   Gender (traditional)                          70 non-null     object \n",
      " 2   Birth Year                                    70 non-null     int64  \n",
      " 3   Year of Breakthrough/#1 Hit/Award Nomination  70 non-null     int64  \n",
      " 4   Breakthrough Name                             70 non-null     object \n",
      " 5   Year of First Oscar/Grammy/Emmy               64 non-null     float64\n",
      " 6   Year of Last Major Work (arguable)            70 non-null     int64  \n",
      " 7   Year of Death                                 30 non-null     float64\n",
      "dtypes: float64(2), int64(3), object(3)\n",
      "memory usage: 4.9+ KB\n"
     ]
    }
   ],
   "source": [
    "df.info()"
   ]
  },
  {
   "cell_type": "markdown",
   "id": "d07f33e1",
   "metadata": {},
   "source": [
    "## No Duplicate Values"
   ]
  },
  {
   "cell_type": "code",
   "execution_count": 8,
   "id": "6b57709f",
   "metadata": {},
   "outputs": [
    {
     "data": {
      "text/plain": [
       "0"
      ]
     },
     "execution_count": 8,
     "metadata": {},
     "output_type": "execute_result"
    }
   ],
   "source": [
    "df.duplicated().sum()"
   ]
  },
  {
   "cell_type": "markdown",
   "id": "79e941c2",
   "metadata": {},
   "source": [
    "## Entertainer (all unique entertainer)"
   ]
  },
  {
   "cell_type": "code",
   "execution_count": 9,
   "id": "a71c9542",
   "metadata": {},
   "outputs": [
    {
     "data": {
      "text/plain": [
       "70"
      ]
     },
     "execution_count": 9,
     "metadata": {},
     "output_type": "execute_result"
    }
   ],
   "source": [
    "df['Entertainer'].nunique()"
   ]
  },
  {
   "cell_type": "markdown",
   "id": "8ecc0ceb",
   "metadata": {},
   "source": [
    "## Gender"
   ]
  },
  {
   "cell_type": "code",
   "execution_count": 10,
   "id": "22d18f4b",
   "metadata": {
    "scrolled": true
   },
   "outputs": [
    {
     "data": {
      "text/plain": [
       "M    50\n",
       "F    20\n",
       "Name: Gender (traditional), dtype: int64"
      ]
     },
     "execution_count": 10,
     "metadata": {},
     "output_type": "execute_result"
    }
   ],
   "source": [
    "# Clean values\n",
    "df['Gender (traditional)'].value_counts()"
   ]
  },
  {
   "cell_type": "markdown",
   "id": "e4b96409",
   "metadata": {},
   "source": [
    "## Birth Year"
   ]
  },
  {
   "cell_type": "code",
   "execution_count": 11,
   "id": "b9028daa",
   "metadata": {
    "scrolled": true
   },
   "outputs": [
    {
     "data": {
      "text/plain": [
       "1925    3\n",
       "1954    3\n",
       "1942    3\n",
       "1908    3\n",
       "1901    3\n",
       "Name: Birth Year, dtype: int64"
      ]
     },
     "execution_count": 11,
     "metadata": {},
     "output_type": "execute_result"
    }
   ],
   "source": [
    "# also clean\n",
    "df['Birth Year'].value_counts().head()"
   ]
  },
  {
   "cell_type": "markdown",
   "id": "37f82dc8",
   "metadata": {},
   "source": [
    "## Year of Breakthrough/#1 Hit/Award Nomination"
   ]
  },
  {
   "cell_type": "code",
   "execution_count": 12,
   "id": "d8bf66e4",
   "metadata": {
    "scrolled": true
   },
   "outputs": [
    {
     "data": {
      "text/plain": [
       "1967    4\n",
       "1984    3\n",
       "1934    3\n",
       "1963    3\n",
       "1989    2\n",
       "Name: Year of Breakthrough/#1 Hit/Award Nomination, dtype: int64"
      ]
     },
     "execution_count": 12,
     "metadata": {},
     "output_type": "execute_result"
    }
   ],
   "source": [
    "# also clean\n",
    "df['Year of Breakthrough/#1 Hit/Award Nomination'].value_counts().head()"
   ]
  },
  {
   "cell_type": "markdown",
   "id": "2f54cd13",
   "metadata": {},
   "source": [
    "## Breakthrough Name"
   ]
  },
  {
   "cell_type": "code",
   "execution_count": 13,
   "id": "a3a3de69",
   "metadata": {},
   "outputs": [
    {
     "data": {
      "text/plain": [
       "I Want to Hold Your Hand    2\n",
       "19                          1\n",
       "Champion                    1\n",
       "Mariah Carey                1\n",
       "Like A Virgin               1\n",
       "Name: Breakthrough Name, dtype: int64"
      ]
     },
     "execution_count": 13,
     "metadata": {},
     "output_type": "execute_result"
    }
   ],
   "source": [
    "# Same song won by different entertainer how?\n",
    "df['Breakthrough Name'].value_counts().head()"
   ]
  },
  {
   "cell_type": "code",
   "execution_count": 14,
   "id": "172f9a17",
   "metadata": {},
   "outputs": [
    {
     "data": {
      "text/html": [
       "<div>\n",
       "<style scoped>\n",
       "    .dataframe tbody tr th:only-of-type {\n",
       "        vertical-align: middle;\n",
       "    }\n",
       "\n",
       "    .dataframe tbody tr th {\n",
       "        vertical-align: top;\n",
       "    }\n",
       "\n",
       "    .dataframe thead th {\n",
       "        text-align: right;\n",
       "    }\n",
       "</style>\n",
       "<table border=\"1\" class=\"dataframe\">\n",
       "  <thead>\n",
       "    <tr style=\"text-align: right;\">\n",
       "      <th></th>\n",
       "      <th>Entertainer</th>\n",
       "      <th>Gender (traditional)</th>\n",
       "      <th>Birth Year</th>\n",
       "      <th>Year of Breakthrough/#1 Hit/Award Nomination</th>\n",
       "      <th>Breakthrough Name</th>\n",
       "      <th>Year of First Oscar/Grammy/Emmy</th>\n",
       "      <th>Year of Last Major Work (arguable)</th>\n",
       "      <th>Year of Death</th>\n",
       "    </tr>\n",
       "  </thead>\n",
       "  <tbody>\n",
       "    <tr>\n",
       "      <th>37</th>\n",
       "      <td>John Lennon</td>\n",
       "      <td>M</td>\n",
       "      <td>1940</td>\n",
       "      <td>1963</td>\n",
       "      <td>I Want to Hold Your Hand</td>\n",
       "      <td>1965.0</td>\n",
       "      <td>1980</td>\n",
       "      <td>1980.0</td>\n",
       "    </tr>\n",
       "    <tr>\n",
       "      <th>57</th>\n",
       "      <td>Paul McCartney</td>\n",
       "      <td>M</td>\n",
       "      <td>1942</td>\n",
       "      <td>1963</td>\n",
       "      <td>I Want to Hold Your Hand</td>\n",
       "      <td>1965.0</td>\n",
       "      <td>2016</td>\n",
       "      <td>NaN</td>\n",
       "    </tr>\n",
       "  </tbody>\n",
       "</table>\n",
       "</div>"
      ],
      "text/plain": [
       "       Entertainer Gender (traditional)  Birth Year  \\\n",
       "37     John Lennon                    M        1940   \n",
       "57  Paul McCartney                    M        1942   \n",
       "\n",
       "    Year of Breakthrough/#1 Hit/Award Nomination         Breakthrough Name  \\\n",
       "37                                          1963  I Want to Hold Your Hand   \n",
       "57                                          1963  I Want to Hold Your Hand   \n",
       "\n",
       "    Year of First Oscar/Grammy/Emmy  Year of Last Major Work (arguable)  \\\n",
       "37                           1965.0                                1980   \n",
       "57                           1965.0                                2016   \n",
       "\n",
       "    Year of Death  \n",
       "37         1980.0  \n",
       "57            NaN  "
      ]
     },
     "execution_count": 14,
     "metadata": {},
     "output_type": "execute_result"
    }
   ],
   "source": [
    "# Both of these Entertainer are from \"The Beetles\" band thats why both won awards on the same song\n",
    "df[df['Breakthrough Name']== 'I Want to Hold Your Hand']"
   ]
  },
  {
   "cell_type": "markdown",
   "id": "b26ab3b5",
   "metadata": {},
   "source": [
    "## Year of First Oscar/Grammy/Emmy"
   ]
  },
  {
   "cell_type": "code",
   "execution_count": 15,
   "id": "51ea755a",
   "metadata": {},
   "outputs": [
    {
     "data": {
      "text/plain": [
       "6"
      ]
     },
     "execution_count": 15,
     "metadata": {},
     "output_type": "execute_result"
    }
   ],
   "source": [
    "df['Year of First Oscar/Grammy/Emmy'].isnull().sum()"
   ]
  },
  {
   "cell_type": "code",
   "execution_count": 16,
   "id": "d758e98c",
   "metadata": {},
   "outputs": [],
   "source": [
    "# wrong data type as well as had some nan values \n",
    "df['Year of First Oscar/Grammy/Emmy'].fillna(0,inplace=True)\n",
    "\n",
    "df['Year of First Oscar/Grammy/Emmy'] = df['Year of First Oscar/Grammy/Emmy'].astype('int')\n",
    "\n",
    "df['Year of First Oscar/Grammy/Emmy'].replace({0: 'No Awards Won'},inplace=True)"
   ]
  },
  {
   "cell_type": "code",
   "execution_count": 17,
   "id": "778008ab",
   "metadata": {},
   "outputs": [
    {
     "data": {
      "text/plain": [
       "No Awards Won    6\n",
       "1962             4\n",
       "1964             3\n",
       "1976             3\n",
       "1987             3\n",
       "Name: Year of First Oscar/Grammy/Emmy, dtype: int64"
      ]
     },
     "execution_count": 17,
     "metadata": {},
     "output_type": "execute_result"
    }
   ],
   "source": [
    "df['Year of First Oscar/Grammy/Emmy'].value_counts().head()"
   ]
  },
  {
   "cell_type": "markdown",
   "id": "8b9c3c1d",
   "metadata": {},
   "source": [
    "## Year of Last Major Work (arguable)"
   ]
  },
  {
   "cell_type": "code",
   "execution_count": 18,
   "id": "621e9ecc",
   "metadata": {
    "scrolled": true
   },
   "outputs": [
    {
     "data": {
      "text/plain": [
       "2016    30\n",
       "2015     3\n",
       "2004     3\n",
       "2014     3\n",
       "1980     3\n",
       "Name: Year of Last Major Work (arguable), dtype: int64"
      ]
     },
     "execution_count": 18,
     "metadata": {},
     "output_type": "execute_result"
    }
   ],
   "source": [
    "df[\"Year of Last Major Work (arguable)\"].value_counts().head()"
   ]
  },
  {
   "cell_type": "markdown",
   "id": "6c93a8e6",
   "metadata": {},
   "source": [
    "## Year of Death"
   ]
  },
  {
   "cell_type": "code",
   "execution_count": 19,
   "id": "cfe6670f",
   "metadata": {},
   "outputs": [
    {
     "data": {
      "text/plain": [
       "40"
      ]
     },
     "execution_count": 19,
     "metadata": {},
     "output_type": "execute_result"
    }
   ],
   "source": [
    "df['Year of Death'].isnull().sum()"
   ]
  },
  {
   "cell_type": "code",
   "execution_count": 20,
   "id": "67f1e1b0",
   "metadata": {},
   "outputs": [],
   "source": [
    "# wrong data type as well as had some nan values \n",
    "\n",
    "df['Year of Death'].fillna(0,inplace=True)\n",
    "\n",
    "df['Year of Death'] = df['Year of Death'].astype(int)\n",
    "\n",
    "df['Year of Death'].replace({0:'Not Dead'},inplace=True)"
   ]
  },
  {
   "cell_type": "code",
   "execution_count": 21,
   "id": "2c5b21a0",
   "metadata": {},
   "outputs": [
    {
     "data": {
      "text/plain": [
       "Not Dead    40\n",
       "2016         4\n",
       "1977         4\n",
       "2003         3\n",
       "1990         2\n",
       "Name: Year of Death, dtype: int64"
      ]
     },
     "execution_count": 21,
     "metadata": {},
     "output_type": "execute_result"
    }
   ],
   "source": [
    "df['Year of Death'].value_counts().head()"
   ]
  },
  {
   "cell_type": "markdown",
   "id": "e09b3ff7",
   "metadata": {},
   "source": [
    "# Cleaned Data "
   ]
  },
  {
   "cell_type": "code",
   "execution_count": 22,
   "id": "39d6e2a7",
   "metadata": {
    "scrolled": true
   },
   "outputs": [
    {
     "name": "stdout",
     "output_type": "stream",
     "text": [
      "<class 'pandas.core.frame.DataFrame'>\n",
      "Int64Index: 70 entries, 0 to 69\n",
      "Data columns (total 8 columns):\n",
      " #   Column                                        Non-Null Count  Dtype \n",
      "---  ------                                        --------------  ----- \n",
      " 0   Entertainer                                   70 non-null     object\n",
      " 1   Gender (traditional)                          70 non-null     object\n",
      " 2   Birth Year                                    70 non-null     int64 \n",
      " 3   Year of Breakthrough/#1 Hit/Award Nomination  70 non-null     int64 \n",
      " 4   Breakthrough Name                             70 non-null     object\n",
      " 5   Year of First Oscar/Grammy/Emmy               70 non-null     object\n",
      " 6   Year of Last Major Work (arguable)            70 non-null     int64 \n",
      " 7   Year of Death                                 70 non-null     object\n",
      "dtypes: int64(3), object(5)\n",
      "memory usage: 4.9+ KB\n"
     ]
    }
   ],
   "source": [
    "df.info()"
   ]
  },
  {
   "cell_type": "markdown",
   "id": "d44cf7c7",
   "metadata": {},
   "source": [
    "# Adding Images To the dataset with the help of Wikipedia API"
   ]
  },
  {
   "cell_type": "code",
   "execution_count": 23,
   "id": "b48bea72",
   "metadata": {},
   "outputs": [
    {
     "name": "stdout",
     "output_type": "stream",
     "text": [
      "Requirement already satisfied: wikipedia in c:\\users\\aniket\\anaconda3\\lib\\site-packages (1.4.0)\n",
      "Requirement already satisfied: beautifulsoup4 in c:\\users\\aniket\\anaconda3\\lib\\site-packages (from wikipedia) (4.11.1)\n",
      "Requirement already satisfied: requests<3.0.0,>=2.0.0 in c:\\users\\aniket\\anaconda3\\lib\\site-packages (from wikipedia) (2.27.1)\n",
      "Requirement already satisfied: urllib3<1.27,>=1.21.1 in c:\\users\\aniket\\anaconda3\\lib\\site-packages (from requests<3.0.0,>=2.0.0->wikipedia) (1.26.9)\n",
      "Requirement already satisfied: certifi>=2017.4.17 in c:\\users\\aniket\\anaconda3\\lib\\site-packages (from requests<3.0.0,>=2.0.0->wikipedia) (2022.9.24)\n",
      "Requirement already satisfied: charset-normalizer~=2.0.0 in c:\\users\\aniket\\anaconda3\\lib\\site-packages (from requests<3.0.0,>=2.0.0->wikipedia) (2.0.4)\n",
      "Requirement already satisfied: idna<4,>=2.5 in c:\\users\\aniket\\anaconda3\\lib\\site-packages (from requests<3.0.0,>=2.0.0->wikipedia) (3.3)\n",
      "Requirement already satisfied: soupsieve>1.2 in c:\\users\\aniket\\anaconda3\\lib\\site-packages (from beautifulsoup4->wikipedia) (2.3.1)\n"
     ]
    },
    {
     "name": "stderr",
     "output_type": "stream",
     "text": [
      "WARNING: Ignoring invalid distribution -treamlit (c:\\users\\aniket\\anaconda3\\lib\\site-packages)\n",
      "WARNING: Ignoring invalid distribution -treamlit (c:\\users\\aniket\\anaconda3\\lib\\site-packages)\n",
      "\n",
      "[notice] A new release of pip is available: 24.0 -> 24.1.2\n",
      "[notice] To update, run: python.exe -m pip install --upgrade pip\n"
     ]
    }
   ],
   "source": [
    "!pip install wikipedia"
   ]
  },
  {
   "cell_type": "code",
   "execution_count": 37,
   "id": "18d940f9",
   "metadata": {},
   "outputs": [],
   "source": [
    "import wikipedia\n",
    "import requests\n",
    "import json\n",
    "\n",
    "WIKI_REQUEST = 'http://en.wikipedia.org/w/api.php?action=query&prop=pageimages&format=json&piprop=original&titles='\n",
    "\n",
    "def get_wiki_image(search_term):\n",
    "    try:\n",
    "        result = wikipedia.search(search_term, results = 1)\n",
    "        wikipedia.set_lang('en')\n",
    "        wkpage = wikipedia.WikipediaPage(title = result[0])\n",
    "        title = wkpage.title\n",
    "        response  = requests.get(WIKI_REQUEST+title)\n",
    "        json_data = json.loads(response.text)\n",
    "        img_link = list(json_data['query']['pages'].values())[0]['original']['source']\n",
    "        return img_link        \n",
    "    except:\n",
    "        return 0\n",
    "\n",
    "wiki_image = get_wiki_image('Angelina Jolie')"
   ]
  },
  {
   "cell_type": "code",
   "execution_count": 38,
   "id": "124666cb",
   "metadata": {},
   "outputs": [
    {
     "data": {
      "text/plain": [
       "'https://upload.wikimedia.org/wikipedia/commons/c/c3/Angelina_Jolie_at_the_U.S._Department_of_State_in_Washington%2C_D.C._in_2022.jpg'"
      ]
     },
     "execution_count": 38,
     "metadata": {},
     "output_type": "execute_result"
    }
   ],
   "source": [
    "wiki_image"
   ]
  },
  {
   "cell_type": "code",
   "execution_count": 25,
   "id": "bed1ed21",
   "metadata": {},
   "outputs": [],
   "source": [
    "df['images'] = df['Entertainer'].apply(lambda x: get_wiki_image(x))"
   ]
  },
  {
   "cell_type": "code",
   "execution_count": 58,
   "id": "9a1e92f8",
   "metadata": {},
   "outputs": [
    {
     "data": {
      "text/html": [
       "<div>\n",
       "<style scoped>\n",
       "    .dataframe tbody tr th:only-of-type {\n",
       "        vertical-align: middle;\n",
       "    }\n",
       "\n",
       "    .dataframe tbody tr th {\n",
       "        vertical-align: top;\n",
       "    }\n",
       "\n",
       "    .dataframe thead th {\n",
       "        text-align: right;\n",
       "    }\n",
       "</style>\n",
       "<table border=\"1\" class=\"dataframe\">\n",
       "  <thead>\n",
       "    <tr style=\"text-align: right;\">\n",
       "      <th></th>\n",
       "      <th>Entertainer</th>\n",
       "      <th>Gender (traditional)</th>\n",
       "      <th>Birth Year</th>\n",
       "      <th>Year of Breakthrough/#1 Hit/Award Nomination</th>\n",
       "      <th>Breakthrough Name</th>\n",
       "      <th>Year of First Oscar/Grammy/Emmy</th>\n",
       "      <th>Year of Last Major Work (arguable)</th>\n",
       "      <th>Year of Death</th>\n",
       "      <th>images</th>\n",
       "    </tr>\n",
       "  </thead>\n",
       "  <tbody>\n",
       "    <tr>\n",
       "      <th>0</th>\n",
       "      <td>Adele</td>\n",
       "      <td>F</td>\n",
       "      <td>1988</td>\n",
       "      <td>2008</td>\n",
       "      <td>19</td>\n",
       "      <td>2009</td>\n",
       "      <td>2016</td>\n",
       "      <td>Not Dead</td>\n",
       "      <td>https://upload.wikimedia.org/wikipedia/commons...</td>\n",
       "    </tr>\n",
       "    <tr>\n",
       "      <th>1</th>\n",
       "      <td>Angelina Jolie</td>\n",
       "      <td>F</td>\n",
       "      <td>1975</td>\n",
       "      <td>1999</td>\n",
       "      <td>Girl, Interrupted</td>\n",
       "      <td>1999</td>\n",
       "      <td>2016</td>\n",
       "      <td>Not Dead</td>\n",
       "      <td>https://upload.wikimedia.org/wikipedia/commons...</td>\n",
       "    </tr>\n",
       "    <tr>\n",
       "      <th>2</th>\n",
       "      <td>Aretha Franklin</td>\n",
       "      <td>F</td>\n",
       "      <td>1942</td>\n",
       "      <td>1967</td>\n",
       "      <td>I Never Loved a Man (The Way I Love You)</td>\n",
       "      <td>1968</td>\n",
       "      <td>2014</td>\n",
       "      <td>Not Dead</td>\n",
       "      <td>https://upload.wikimedia.org/wikipedia/commons...</td>\n",
       "    </tr>\n",
       "    <tr>\n",
       "      <th>3</th>\n",
       "      <td>Bette Davis</td>\n",
       "      <td>F</td>\n",
       "      <td>1908</td>\n",
       "      <td>1934</td>\n",
       "      <td>Of Human Bondage</td>\n",
       "      <td>1935</td>\n",
       "      <td>1989</td>\n",
       "      <td>1989</td>\n",
       "      <td>https://upload.wikimedia.org/wikipedia/commons...</td>\n",
       "    </tr>\n",
       "    <tr>\n",
       "      <th>4</th>\n",
       "      <td>Betty White</td>\n",
       "      <td>F</td>\n",
       "      <td>1922</td>\n",
       "      <td>1952</td>\n",
       "      <td>Life with Elilzabeth</td>\n",
       "      <td>1976</td>\n",
       "      <td>2016</td>\n",
       "      <td>Not Dead</td>\n",
       "      <td>https://upload.wikimedia.org/wikipedia/commons...</td>\n",
       "    </tr>\n",
       "  </tbody>\n",
       "</table>\n",
       "</div>"
      ],
      "text/plain": [
       "       Entertainer Gender (traditional)  Birth Year  \\\n",
       "0            Adele                    F        1988   \n",
       "1   Angelina Jolie                    F        1975   \n",
       "2  Aretha Franklin                    F        1942   \n",
       "3      Bette Davis                    F        1908   \n",
       "4      Betty White                    F        1922   \n",
       "\n",
       "   Year of Breakthrough/#1 Hit/Award Nomination  \\\n",
       "0                                          2008   \n",
       "1                                          1999   \n",
       "2                                          1967   \n",
       "3                                          1934   \n",
       "4                                          1952   \n",
       "\n",
       "                          Breakthrough Name Year of First Oscar/Grammy/Emmy  \\\n",
       "0                                        19                            2009   \n",
       "1                         Girl, Interrupted                            1999   \n",
       "2  I Never Loved a Man (The Way I Love You)                            1968   \n",
       "3                          Of Human Bondage                            1935   \n",
       "4                      Life with Elilzabeth                            1976   \n",
       "\n",
       "   Year of Last Major Work (arguable) Year of Death  \\\n",
       "0                                2016      Not Dead   \n",
       "1                                2016      Not Dead   \n",
       "2                                2014      Not Dead   \n",
       "3                                1989          1989   \n",
       "4                                2016      Not Dead   \n",
       "\n",
       "                                              images  \n",
       "0  https://upload.wikimedia.org/wikipedia/commons...  \n",
       "1  https://upload.wikimedia.org/wikipedia/commons...  \n",
       "2  https://upload.wikimedia.org/wikipedia/commons...  \n",
       "3  https://upload.wikimedia.org/wikipedia/commons...  \n",
       "4  https://upload.wikimedia.org/wikipedia/commons...  "
      ]
     },
     "execution_count": 58,
     "metadata": {},
     "output_type": "execute_result"
    }
   ],
   "source": [
    "df.head()"
   ]
  },
  {
   "cell_type": "code",
   "execution_count": 59,
   "id": "2774a680",
   "metadata": {},
   "outputs": [],
   "source": [
    "df.to_csv('Entertainer.csv', index=False)"
   ]
  },
  {
   "cell_type": "code",
   "execution_count": null,
   "id": "a7520533",
   "metadata": {},
   "outputs": [],
   "source": []
  }
 ],
 "metadata": {
  "kernelspec": {
   "display_name": "Python 3 (ipykernel)",
   "language": "python",
   "name": "python3"
  },
  "language_info": {
   "codemirror_mode": {
    "name": "ipython",
    "version": 3
   },
   "file_extension": ".py",
   "mimetype": "text/x-python",
   "name": "python",
   "nbconvert_exporter": "python",
   "pygments_lexer": "ipython3",
   "version": "3.9.12"
  }
 },
 "nbformat": 4,
 "nbformat_minor": 5
}
